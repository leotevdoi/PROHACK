{
 "cells": [
  {
   "cell_type": "markdown",
   "metadata": {},
   "source": [
    "Согласно легенде хакатона, в контакт с Землёй вошла инопланетная цивилизация, попросившая у земных дата-сайентистов помощи в выполнении следующих задач:\n",
    "1. Создать алгоритм, предсказывающий Индекс Благосостояния (Index) галактик на основе их социо-экономических характеристик\n",
    "2. Распределить доступные ресурсы (extra energy) между галактиками оптимальным образом при соблюдении следующих условий:\n",
    "    * Имеется 50000 единиц extra energy\n",
    "    * Потенциал каждой галактики к увеличению благосостояния = -np.log(Index+0.01)+3\n",
    "    * Вероятное увеличение благосостояния = extra energy * Potential for increase in the Index **2 / 1000\n",
    "    * Каждая галактика должна получить не менее 0 и не более 100 extra energy.\n",
    "    * Галактики с параметром existance expectancy index < 0.7 должны получить не менее 10% от всей доступной extra energy"
   ]
  },
  {
   "cell_type": "markdown",
   "metadata": {},
   "source": [
    "## Задачи:\n",
    "1. Осуществить разведочный анализ данных, удалить сильно скореллированные переменные\n",
    "2. Предсказать с помощью линейной регрессии значение зависимой переменной (\"Благосостояние\")\n",
    "3. Найти оптимальное распределение благосостояния между галактиками с помощью линейного программирования"
   ]
  },
  {
   "cell_type": "markdown",
   "metadata": {},
   "source": [
    "### Импортируем нужные библиотеки и данные"
   ]
  },
  {
   "cell_type": "code",
   "execution_count": 1,
   "metadata": {},
   "outputs": [],
   "source": [
    "import pandas as pd\n",
    "import numpy as np\n",
    "import seaborn as sns\n",
    "import sklearn\n",
    "import matplotlib.pyplot as plt\n",
    "%matplotlib inline\n",
    "import scipy\n",
    "from scipy import stats"
   ]
  },
  {
   "cell_type": "code",
   "execution_count": 2,
   "metadata": {},
   "outputs": [],
   "source": [
    "train = pd.read_csv('D:/prohack/train.csv') # загружаем обучающую выборку\n",
    "test = pd.read_csv('D:/prohack/test.csv') # загружаем тестовую выборку"
   ]
  },
  {
   "cell_type": "code",
   "execution_count": 3,
   "metadata": {},
   "outputs": [
    {
     "data": {
      "text/html": [
       "<div>\n",
       "<style scoped>\n",
       "    .dataframe tbody tr th:only-of-type {\n",
       "        vertical-align: middle;\n",
       "    }\n",
       "\n",
       "    .dataframe tbody tr th {\n",
       "        vertical-align: top;\n",
       "    }\n",
       "\n",
       "    .dataframe thead th {\n",
       "        text-align: right;\n",
       "    }\n",
       "</style>\n",
       "<table border=\"1\" class=\"dataframe\">\n",
       "  <thead>\n",
       "    <tr style=\"text-align: right;\">\n",
       "      <th></th>\n",
       "      <th>galactic year</th>\n",
       "      <th>galaxy</th>\n",
       "      <th>existence expectancy index</th>\n",
       "      <th>existence expectancy at birth</th>\n",
       "      <th>Gross income per capita</th>\n",
       "      <th>Income Index</th>\n",
       "      <th>Expected years of education (galactic years)</th>\n",
       "      <th>Mean years of education (galactic years)</th>\n",
       "      <th>Intergalactic Development Index (IDI)</th>\n",
       "      <th>Education Index</th>\n",
       "      <th>...</th>\n",
       "      <th>Intergalactic Development Index (IDI), female</th>\n",
       "      <th>Intergalactic Development Index (IDI), male</th>\n",
       "      <th>Gender Development Index (GDI)</th>\n",
       "      <th>Intergalactic Development Index (IDI), female, Rank</th>\n",
       "      <th>Intergalactic Development Index (IDI), male, Rank</th>\n",
       "      <th>Adjusted net savings</th>\n",
       "      <th>Creature Immunodeficiency Disease prevalence, adult (% ages 15-49), total</th>\n",
       "      <th>Private galaxy capital flows (% of GGP)</th>\n",
       "      <th>Gender Inequality Index (GII)</th>\n",
       "      <th>y</th>\n",
       "    </tr>\n",
       "  </thead>\n",
       "  <tbody>\n",
       "    <tr>\n",
       "      <th>0</th>\n",
       "      <td>990025</td>\n",
       "      <td>Large Magellanic Cloud (LMC)</td>\n",
       "      <td>0.628657</td>\n",
       "      <td>63.125200</td>\n",
       "      <td>27109.234310</td>\n",
       "      <td>0.646039</td>\n",
       "      <td>8.240543</td>\n",
       "      <td>NaN</td>\n",
       "      <td>NaN</td>\n",
       "      <td>NaN</td>\n",
       "      <td>...</td>\n",
       "      <td>NaN</td>\n",
       "      <td>NaN</td>\n",
       "      <td>NaN</td>\n",
       "      <td>NaN</td>\n",
       "      <td>NaN</td>\n",
       "      <td>NaN</td>\n",
       "      <td>NaN</td>\n",
       "      <td>NaN</td>\n",
       "      <td>NaN</td>\n",
       "      <td>0.052590</td>\n",
       "    </tr>\n",
       "    <tr>\n",
       "      <th>1</th>\n",
       "      <td>990025</td>\n",
       "      <td>Camelopardalis B</td>\n",
       "      <td>0.818082</td>\n",
       "      <td>81.004994</td>\n",
       "      <td>30166.793958</td>\n",
       "      <td>0.852246</td>\n",
       "      <td>10.671823</td>\n",
       "      <td>4.742470</td>\n",
       "      <td>0.833624</td>\n",
       "      <td>0.467873</td>\n",
       "      <td>...</td>\n",
       "      <td>NaN</td>\n",
       "      <td>NaN</td>\n",
       "      <td>NaN</td>\n",
       "      <td>NaN</td>\n",
       "      <td>NaN</td>\n",
       "      <td>19.177926</td>\n",
       "      <td>NaN</td>\n",
       "      <td>22.785018</td>\n",
       "      <td>NaN</td>\n",
       "      <td>0.059868</td>\n",
       "    </tr>\n",
       "    <tr>\n",
       "      <th>2</th>\n",
       "      <td>990025</td>\n",
       "      <td>Virgo I</td>\n",
       "      <td>0.659443</td>\n",
       "      <td>59.570534</td>\n",
       "      <td>8441.707353</td>\n",
       "      <td>0.499762</td>\n",
       "      <td>8.840316</td>\n",
       "      <td>5.583973</td>\n",
       "      <td>0.469110</td>\n",
       "      <td>0.363837</td>\n",
       "      <td>...</td>\n",
       "      <td>NaN</td>\n",
       "      <td>NaN</td>\n",
       "      <td>NaN</td>\n",
       "      <td>NaN</td>\n",
       "      <td>NaN</td>\n",
       "      <td>21.151265</td>\n",
       "      <td>6.534020</td>\n",
       "      <td>NaN</td>\n",
       "      <td>NaN</td>\n",
       "      <td>0.050449</td>\n",
       "    </tr>\n",
       "    <tr>\n",
       "      <th>3</th>\n",
       "      <td>990025</td>\n",
       "      <td>UGC 8651 (DDO 181)</td>\n",
       "      <td>0.555862</td>\n",
       "      <td>52.333293</td>\n",
       "      <td>NaN</td>\n",
       "      <td>NaN</td>\n",
       "      <td>NaN</td>\n",
       "      <td>NaN</td>\n",
       "      <td>NaN</td>\n",
       "      <td>NaN</td>\n",
       "      <td>...</td>\n",
       "      <td>NaN</td>\n",
       "      <td>NaN</td>\n",
       "      <td>NaN</td>\n",
       "      <td>NaN</td>\n",
       "      <td>NaN</td>\n",
       "      <td>NaN</td>\n",
       "      <td>5.912194</td>\n",
       "      <td>NaN</td>\n",
       "      <td>NaN</td>\n",
       "      <td>0.049394</td>\n",
       "    </tr>\n",
       "    <tr>\n",
       "      <th>4</th>\n",
       "      <td>990025</td>\n",
       "      <td>Tucana Dwarf</td>\n",
       "      <td>0.991196</td>\n",
       "      <td>81.802464</td>\n",
       "      <td>81033.956906</td>\n",
       "      <td>1.131163</td>\n",
       "      <td>13.800672</td>\n",
       "      <td>13.188907</td>\n",
       "      <td>0.910341</td>\n",
       "      <td>0.918353</td>\n",
       "      <td>...</td>\n",
       "      <td>NaN</td>\n",
       "      <td>NaN</td>\n",
       "      <td>NaN</td>\n",
       "      <td>NaN</td>\n",
       "      <td>NaN</td>\n",
       "      <td>NaN</td>\n",
       "      <td>5.611753</td>\n",
       "      <td>NaN</td>\n",
       "      <td>NaN</td>\n",
       "      <td>0.154247</td>\n",
       "    </tr>\n",
       "  </tbody>\n",
       "</table>\n",
       "<p>5 rows × 80 columns</p>\n",
       "</div>"
      ],
      "text/plain": [
       "   galactic year                        galaxy  existence expectancy index  \\\n",
       "0         990025  Large Magellanic Cloud (LMC)                    0.628657   \n",
       "1         990025              Camelopardalis B                    0.818082   \n",
       "2         990025                       Virgo I                    0.659443   \n",
       "3         990025            UGC 8651 (DDO 181)                    0.555862   \n",
       "4         990025                  Tucana Dwarf                    0.991196   \n",
       "\n",
       "   existence expectancy at birth  Gross income per capita  Income Index  \\\n",
       "0                      63.125200             27109.234310      0.646039   \n",
       "1                      81.004994             30166.793958      0.852246   \n",
       "2                      59.570534              8441.707353      0.499762   \n",
       "3                      52.333293                      NaN           NaN   \n",
       "4                      81.802464             81033.956906      1.131163   \n",
       "\n",
       "   Expected years of education (galactic years)  \\\n",
       "0                                      8.240543   \n",
       "1                                     10.671823   \n",
       "2                                      8.840316   \n",
       "3                                           NaN   \n",
       "4                                     13.800672   \n",
       "\n",
       "   Mean years of education (galactic years)  \\\n",
       "0                                       NaN   \n",
       "1                                  4.742470   \n",
       "2                                  5.583973   \n",
       "3                                       NaN   \n",
       "4                                 13.188907   \n",
       "\n",
       "   Intergalactic Development Index (IDI)  Education Index  ...  \\\n",
       "0                                    NaN              NaN  ...   \n",
       "1                               0.833624         0.467873  ...   \n",
       "2                               0.469110         0.363837  ...   \n",
       "3                                    NaN              NaN  ...   \n",
       "4                               0.910341         0.918353  ...   \n",
       "\n",
       "   Intergalactic Development Index (IDI), female  \\\n",
       "0                                            NaN   \n",
       "1                                            NaN   \n",
       "2                                            NaN   \n",
       "3                                            NaN   \n",
       "4                                            NaN   \n",
       "\n",
       "   Intergalactic Development Index (IDI), male  \\\n",
       "0                                          NaN   \n",
       "1                                          NaN   \n",
       "2                                          NaN   \n",
       "3                                          NaN   \n",
       "4                                          NaN   \n",
       "\n",
       "   Gender Development Index (GDI)  \\\n",
       "0                             NaN   \n",
       "1                             NaN   \n",
       "2                             NaN   \n",
       "3                             NaN   \n",
       "4                             NaN   \n",
       "\n",
       "   Intergalactic Development Index (IDI), female, Rank  \\\n",
       "0                                                NaN     \n",
       "1                                                NaN     \n",
       "2                                                NaN     \n",
       "3                                                NaN     \n",
       "4                                                NaN     \n",
       "\n",
       "   Intergalactic Development Index (IDI), male, Rank  Adjusted net savings   \\\n",
       "0                                                NaN                    NaN   \n",
       "1                                                NaN              19.177926   \n",
       "2                                                NaN              21.151265   \n",
       "3                                                NaN                    NaN   \n",
       "4                                                NaN                    NaN   \n",
       "\n",
       "   Creature Immunodeficiency Disease prevalence, adult (% ages 15-49), total  \\\n",
       "0                                                NaN                           \n",
       "1                                                NaN                           \n",
       "2                                           6.534020                           \n",
       "3                                           5.912194                           \n",
       "4                                           5.611753                           \n",
       "\n",
       "   Private galaxy capital flows (% of GGP)  Gender Inequality Index (GII)  \\\n",
       "0                                      NaN                            NaN   \n",
       "1                                22.785018                            NaN   \n",
       "2                                      NaN                            NaN   \n",
       "3                                      NaN                            NaN   \n",
       "4                                      NaN                            NaN   \n",
       "\n",
       "          y  \n",
       "0  0.052590  \n",
       "1  0.059868  \n",
       "2  0.050449  \n",
       "3  0.049394  \n",
       "4  0.154247  \n",
       "\n",
       "[5 rows x 80 columns]"
      ]
     },
     "execution_count": 3,
     "metadata": {},
     "output_type": "execute_result"
    }
   ],
   "source": [
    "train.head()"
   ]
  },
  {
   "cell_type": "code",
   "execution_count": 4,
   "metadata": {},
   "outputs": [
    {
     "data": {
      "text/plain": [
       "(3865, 80)"
      ]
     },
     "execution_count": 4,
     "metadata": {},
     "output_type": "execute_result"
    }
   ],
   "source": [
    "train.shape"
   ]
  },
  {
   "cell_type": "code",
   "execution_count": 5,
   "metadata": {},
   "outputs": [],
   "source": [
    "#train.info()"
   ]
  },
  {
   "cell_type": "markdown",
   "metadata": {},
   "source": [
    "### Определим, какие переменные будут включены в модель"
   ]
  },
  {
   "cell_type": "markdown",
   "metadata": {},
   "source": [
    "**Оставим только переменные, содержащие более 3000 значений**"
   ]
  },
  {
   "cell_type": "code",
   "execution_count": 6,
   "metadata": {},
   "outputs": [],
   "source": [
    "train_subset1 = train[['galactic year', 'galaxy', 'existence expectancy index', 'existence expectancy at birth',\n",
    "                       'Gross income per capita', 'Income Index', 'Expected years of education (galactic years)',\n",
    "                       'Mean years of education (galactic years)', 'Intergalactic Development Index (IDI)', 'Education Index',\n",
    "                       'Intergalactic Development Index (IDI), Rank', 'y']]"
   ]
  },
  {
   "cell_type": "code",
   "execution_count": 7,
   "metadata": {},
   "outputs": [
    {
     "data": {
      "text/plain": [
       "(3865, 12)"
      ]
     },
     "execution_count": 7,
     "metadata": {},
     "output_type": "execute_result"
    }
   ],
   "source": [
    "train_subset1.shape"
   ]
  },
  {
   "cell_type": "markdown",
   "metadata": {},
   "source": [
    "**Визуализируем корреляционную матрицу выбранных переменных**"
   ]
  },
  {
   "cell_type": "code",
   "execution_count": 8,
   "metadata": {},
   "outputs": [
    {
     "data": {
      "text/plain": [
       "<matplotlib.axes._subplots.AxesSubplot at 0x242bd856668>"
      ]
     },
     "execution_count": 8,
     "metadata": {},
     "output_type": "execute_result"
    },
    {
     "data": {
      "image/png": "[encoded data removed]",
      "text/plain": [
       "<Figure size 720x720 with 2 Axes>"
      ]
     },
     "metadata": {
      "needs_background": "light"
     },
     "output_type": "display_data"
    }
   ],
   "source": [
    "plt.subplots(figsize = (10, 10))\n",
    "sns.heatmap(train_subset1.corr(), xticklabels = True, yticklabels = True, annot = True)"
   ]
  },
  {
   "cell_type": "markdown",
   "metadata": {},
   "source": [
    "**Включим в модель следующие переменные:**  \n",
    "'galactic year', 'galaxy', 'existence expectancy index', 'Gross income per capita', 'Mean years of education (galactic years)', 'Intergalactic Development Index (IDI)', 'y'"
   ]
  },
  {
   "cell_type": "markdown",
   "metadata": {},
   "source": [
    "### Предобработка данных"
   ]
  },
  {
   "cell_type": "code",
   "execution_count": 9,
   "metadata": {},
   "outputs": [],
   "source": [
    "train_reduced = train[['galactic year', 'galaxy', 'existence expectancy index', 'Gross income per capita', \n",
    "                       'Mean years of education (galactic years)', 'Intergalactic Development Index (IDI)', 'y']]"
   ]
  },
  {
   "cell_type": "code",
   "execution_count": 10,
   "metadata": {},
   "outputs": [
    {
     "data": {
      "text/plain": [
       "(3865, 7)"
      ]
     },
     "execution_count": 10,
     "metadata": {},
     "output_type": "execute_result"
    }
   ],
   "source": [
    "train_reduced.shape"
   ]
  },
  {
   "cell_type": "markdown",
   "metadata": {},
   "source": [
    "**Заполним пропущенные значения средним по столбцу**"
   ]
  },
  {
   "cell_type": "code",
   "execution_count": 11,
   "metadata": {},
   "outputs": [],
   "source": [
    "train_filled = train_reduced.fillna(train_reduced.mean())"
   ]
  },
  {
   "cell_type": "code",
   "execution_count": 12,
   "metadata": {},
   "outputs": [
    {
     "name": "stdout",
     "output_type": "stream",
     "text": [
      "<class 'pandas.core.frame.DataFrame'>\n",
      "RangeIndex: 3865 entries, 0 to 3864\n",
      "Data columns (total 7 columns):\n",
      "galactic year                               3865 non-null int64\n",
      "galaxy                                      3865 non-null object\n",
      "existence expectancy index                  3865 non-null float64\n",
      "Gross income per capita                     3865 non-null float64\n",
      "Mean years of education (galactic years)    3865 non-null float64\n",
      "Intergalactic Development Index (IDI)       3865 non-null float64\n",
      "y                                           3865 non-null float64\n",
      "dtypes: float64(5), int64(1), object(1)\n",
      "memory usage: 211.5+ KB\n"
     ]
    }
   ],
   "source": [
    "train_filled.info()"
   ]
  },
  {
   "cell_type": "markdown",
   "metadata": {},
   "source": [
    "**Нормализуем наши переменные**"
   ]
  },
  {
   "cell_type": "code",
   "execution_count": 13,
   "metadata": {},
   "outputs": [],
   "source": [
    "from sklearn.preprocessing import MinMaxScaler"
   ]
  },
  {
   "cell_type": "code",
   "execution_count": 14,
   "metadata": {},
   "outputs": [],
   "source": [
    "scaler = MinMaxScaler()"
   ]
  },
  {
   "cell_type": "code",
   "execution_count": 15,
   "metadata": {},
   "outputs": [],
   "source": [
    "X = train_filled.iloc[:, 2:6]"
   ]
  },
  {
   "cell_type": "code",
   "execution_count": 16,
   "metadata": {},
   "outputs": [],
   "source": [
    "X_scaled = scaler.fit_transform(X)"
   ]
  },
  {
   "cell_type": "code",
   "execution_count": null,
   "metadata": {},
   "outputs": [],
   "source": []
  },
  {
   "cell_type": "markdown",
   "metadata": {},
   "source": [
    "### Обучим модель"
   ]
  },
  {
   "cell_type": "code",
   "execution_count": 17,
   "metadata": {},
   "outputs": [],
   "source": [
    "from sklearn.linear_model import LinearRegression"
   ]
  },
  {
   "cell_type": "code",
   "execution_count": 18,
   "metadata": {},
   "outputs": [],
   "source": [
    "y = train_filled.y"
   ]
  },
  {
   "cell_type": "code",
   "execution_count": 19,
   "metadata": {},
   "outputs": [],
   "source": [
    "model = LinearRegression().fit(X_scaled, y)"
   ]
  },
  {
   "cell_type": "markdown",
   "metadata": {},
   "source": [
    "### Подготовим тестовую выборку"
   ]
  },
  {
   "cell_type": "code",
   "execution_count": 20,
   "metadata": {},
   "outputs": [],
   "source": [
    "test_reduced = test[['galactic year', 'galaxy', 'existence expectancy index', 'Gross income per capita', \n",
    "                       'Mean years of education (galactic years)', 'Intergalactic Development Index (IDI)']]"
   ]
  },
  {
   "cell_type": "code",
   "execution_count": 21,
   "metadata": {},
   "outputs": [
    {
     "name": "stdout",
     "output_type": "stream",
     "text": [
      "<class 'pandas.core.frame.DataFrame'>\n",
      "RangeIndex: 890 entries, 0 to 889\n",
      "Data columns (total 6 columns):\n",
      "galactic year                               890 non-null int64\n",
      "galaxy                                      890 non-null object\n",
      "existence expectancy index                  885 non-null float64\n",
      "Gross income per capita                     885 non-null float64\n",
      "Mean years of education (galactic years)    882 non-null float64\n",
      "Intergalactic Development Index (IDI)       882 non-null float64\n",
      "dtypes: float64(4), int64(1), object(1)\n",
      "memory usage: 41.8+ KB\n"
     ]
    }
   ],
   "source": [
    "test_reduced.info()"
   ]
  },
  {
   "cell_type": "code",
   "execution_count": 22,
   "metadata": {},
   "outputs": [],
   "source": [
    "test_filled = test_reduced.fillna(test_reduced.mean()) # заполняем пропущенные значения средним по столбцу"
   ]
  },
  {
   "cell_type": "code",
   "execution_count": 23,
   "metadata": {},
   "outputs": [
    {
     "data": {
      "text/html": [
       "<div>\n",
       "<style scoped>\n",
       "    .dataframe tbody tr th:only-of-type {\n",
       "        vertical-align: middle;\n",
       "    }\n",
       "\n",
       "    .dataframe tbody tr th {\n",
       "        vertical-align: top;\n",
       "    }\n",
       "\n",
       "    .dataframe thead th {\n",
       "        text-align: right;\n",
       "    }\n",
       "</style>\n",
       "<table border=\"1\" class=\"dataframe\">\n",
       "  <thead>\n",
       "    <tr style=\"text-align: right;\">\n",
       "      <th></th>\n",
       "      <th>galactic year</th>\n",
       "      <th>galaxy</th>\n",
       "      <th>existence expectancy index</th>\n",
       "      <th>Gross income per capita</th>\n",
       "      <th>Mean years of education (galactic years)</th>\n",
       "      <th>Intergalactic Development Index (IDI)</th>\n",
       "    </tr>\n",
       "  </thead>\n",
       "  <tbody>\n",
       "    <tr>\n",
       "      <th>0</th>\n",
       "      <td>1007012</td>\n",
       "      <td>KK98 77</td>\n",
       "      <td>0.456086</td>\n",
       "      <td>12236.576447</td>\n",
       "      <td>10.699072</td>\n",
       "      <td>0.547114</td>\n",
       "    </tr>\n",
       "    <tr>\n",
       "      <th>1</th>\n",
       "      <td>1007012</td>\n",
       "      <td>Reticulum III</td>\n",
       "      <td>0.529835</td>\n",
       "      <td>3431.883825</td>\n",
       "      <td>5.311122</td>\n",
       "      <td>0.497688</td>\n",
       "    </tr>\n",
       "    <tr>\n",
       "      <th>2</th>\n",
       "      <td>1008016</td>\n",
       "      <td>Reticulum III</td>\n",
       "      <td>0.560976</td>\n",
       "      <td>27562.914252</td>\n",
       "      <td>5.937797</td>\n",
       "      <td>0.544744</td>\n",
       "    </tr>\n",
       "    <tr>\n",
       "      <th>3</th>\n",
       "      <td>1007012</td>\n",
       "      <td>Segue 1</td>\n",
       "      <td>0.565910</td>\n",
       "      <td>20352.232905</td>\n",
       "      <td>10.067882</td>\n",
       "      <td>0.691641</td>\n",
       "    </tr>\n",
       "    <tr>\n",
       "      <th>4</th>\n",
       "      <td>1013042</td>\n",
       "      <td>Virgo I</td>\n",
       "      <td>0.588274</td>\n",
       "      <td>23959.704016</td>\n",
       "      <td>6.374637</td>\n",
       "      <td>0.530676</td>\n",
       "    </tr>\n",
       "  </tbody>\n",
       "</table>\n",
       "</div>"
      ],
      "text/plain": [
       "   galactic year         galaxy  existence expectancy index  \\\n",
       "0        1007012        KK98 77                    0.456086   \n",
       "1        1007012  Reticulum III                    0.529835   \n",
       "2        1008016  Reticulum III                    0.560976   \n",
       "3        1007012        Segue 1                    0.565910   \n",
       "4        1013042        Virgo I                    0.588274   \n",
       "\n",
       "   Gross income per capita  Mean years of education (galactic years)  \\\n",
       "0             12236.576447                                 10.699072   \n",
       "1              3431.883825                                  5.311122   \n",
       "2             27562.914252                                  5.937797   \n",
       "3             20352.232905                                 10.067882   \n",
       "4             23959.704016                                  6.374637   \n",
       "\n",
       "   Intergalactic Development Index (IDI)  \n",
       "0                               0.547114  \n",
       "1                               0.497688  \n",
       "2                               0.544744  \n",
       "3                               0.691641  \n",
       "4                               0.530676  "
      ]
     },
     "execution_count": 23,
     "metadata": {},
     "output_type": "execute_result"
    }
   ],
   "source": [
    "test_filled.head()"
   ]
  },
  {
   "cell_type": "code",
   "execution_count": 24,
   "metadata": {},
   "outputs": [],
   "source": [
    "X_test = test_filled.iloc[:, 2:6]"
   ]
  },
  {
   "cell_type": "code",
   "execution_count": 25,
   "metadata": {},
   "outputs": [],
   "source": [
    "X_test_scaled = scaler.fit_transform(X_test)"
   ]
  },
  {
   "cell_type": "markdown",
   "metadata": {},
   "source": [
    "### Получим предсказания благосостояния"
   ]
  },
  {
   "cell_type": "code",
   "execution_count": 26,
   "metadata": {},
   "outputs": [],
   "source": [
    "predictions = model.predict(X_test_scaled)"
   ]
  },
  {
   "cell_type": "code",
   "execution_count": null,
   "metadata": {},
   "outputs": [],
   "source": []
  },
  {
   "cell_type": "markdown",
   "metadata": {},
   "source": [
    "### Найдём оптимальный способ распределить дополнительную энергию между галактиками"
   ]
  },
  {
   "cell_type": "markdown",
   "metadata": {},
   "source": [
    "**Необходимо выполнить следующие условия:**  \n",
    "$X = \\{x_1, x_2, ..., x_{890}\\}$  \n",
    "$Z = \\{z_1, z_2, ..., z_n\\} \\subset X$  \n",
    "$x_1 + x_2 + ... + x_{890} <= 50000$  \n",
    "$z_1 + z_2 + ... + z_n >= 5000$  \n",
    "$0 <=  x_i <= 100$  \n",
    "$max \\sum_{n=1}^{890} x_i * ((-\\ln(Index_i + 0.01)) + 3)^{2/1000}$  \n",
    "Где:  \n",
    "X: множество, включающее в себя долю дополнительных ресурсов для каждой галактики  \n",
    "Z: множество галактик с параметром existance expectancy index < 0.7"
   ]
  },
  {
   "cell_type": "code",
   "execution_count": 27,
   "metadata": {},
   "outputs": [],
   "source": [
    "poor = list(test_filled[test_filled['existence expectancy index'] < 0.7].index) # номера бедных галактик"
   ]
  },
  {
   "cell_type": "markdown",
   "metadata": {},
   "source": [
    "**Создадим два вектора - коэффициенты для уравнений:**  \n",
    "$x_1 + x_2 + ... + x_{890} <= 50000$  \n",
    "$-z_1 - z_2 - ... - z_n >= -5000$  "
   ]
  },
  {
   "cell_type": "code",
   "execution_count": 28,
   "metadata": {},
   "outputs": [],
   "source": [
    "A_sum = [1.]*890 # вектор из единиц для первого уравнения"
   ]
  },
  {
   "cell_type": "code",
   "execution_count": 29,
   "metadata": {},
   "outputs": [],
   "source": [
    "vec_ineq = []\n",
    "for i in range(0, 890):\n",
    "    if i in poor:\n",
    "        vec_ineq.append(-1.)\n",
    "    else:\n",
    "        vec_ineq.append(0.)"
   ]
  },
  {
   "cell_type": "code",
   "execution_count": 30,
   "metadata": {},
   "outputs": [],
   "source": [
    "A_ineq = vec_ineq # вектор из минус единиц для второго уравнения"
   ]
  },
  {
   "cell_type": "markdown",
   "metadata": {},
   "source": [
    "**Создадим целевую функцию:**  \n",
    "$max \\sum_{n=1}^{890} x_i * ((-\\ln(Index_i + 0.01)) + 3)^{2/1000}$  "
   ]
  },
  {
   "cell_type": "code",
   "execution_count": 31,
   "metadata": {},
   "outputs": [],
   "source": [
    "cost_func = [] # так как np.log не может работать с отрицательными числами, заменим их нулями\n",
    "for i in predictions:\n",
    "    if i >= 0:\n",
    "        potential = -np.log(i + 0.01) + 3\n",
    "        likely_increase = -((potential**2) / 1000)\n",
    "        cost_func.append(likely_increase)\n",
    "    elif i < 0:\n",
    "        potential0 = -np.log(0 + 0.01) + 3\n",
    "        likely_increase0 = -((potential0**2) / 1000)\n",
    "        cost_func.append(likely_increase0)"
   ]
  },
  {
   "cell_type": "code",
   "execution_count": 32,
   "metadata": {},
   "outputs": [],
   "source": [
    "A_total = [A_sum, A_ineq] # объединяем вектора в матрицу"
   ]
  },
  {
   "cell_type": "markdown",
   "metadata": {},
   "source": [
    "**Найдём оптимальное разбиение с помощью функции scipy.optimize.linprog**"
   ]
  },
  {
   "cell_type": "code",
   "execution_count": 33,
   "metadata": {},
   "outputs": [],
   "source": [
    "opt = scipy.optimize.linprog(c = cost_func, A_ub = A_total, b_ub = [50000., -5000.], bounds = (0, 100),\n",
    "                              method = 'interior-point')"
   ]
  },
  {
   "cell_type": "code",
   "execution_count": 34,
   "metadata": {},
   "outputs": [
    {
     "data": {
      "text/plain": [
       "99.99996726109316"
      ]
     },
     "execution_count": 34,
     "metadata": {},
     "output_type": "execute_result"
    }
   ],
   "source": [
    "max(opt.x)"
   ]
  },
  {
   "cell_type": "code",
   "execution_count": 35,
   "metadata": {},
   "outputs": [
    {
     "data": {
      "text/plain": [
       "8.875721881633439e-05"
      ]
     },
     "execution_count": 35,
     "metadata": {},
     "output_type": "execute_result"
    }
   ],
   "source": [
    "min(opt.x)"
   ]
  },
  {
   "cell_type": "code",
   "execution_count": 36,
   "metadata": {},
   "outputs": [
    {
     "data": {
      "text/plain": [
       "49999.99913081229"
      ]
     },
     "execution_count": 36,
     "metadata": {},
     "output_type": "execute_result"
    }
   ],
   "source": [
    "sum(opt.x)"
   ]
  },
  {
   "cell_type": "markdown",
   "metadata": {},
   "source": [
    "### Результаты"
   ]
  },
  {
   "cell_type": "markdown",
   "metadata": {},
   "source": [
    "**Экспортируем результаты в CSV**"
   ]
  },
  {
   "cell_type": "code",
   "execution_count": 37,
   "metadata": {},
   "outputs": [],
   "source": [
    "results = pd.DataFrame({'pred': predictions, 'opt_pred' : opt.x})"
   ]
  },
  {
   "cell_type": "code",
   "execution_count": 38,
   "metadata": {},
   "outputs": [],
   "source": [
    "results.to_csv('D:/prohack/submit.csv', float_format = '%.15f')"
   ]
  }
 ],
 "metadata": {
  "kernelspec": {
   "display_name": "Python 3",
   "language": "python",
   "name": "python3"
  },
  "language_info": {
   "codemirror_mode": {
    "name": "ipython",
    "version": 3
   },
   "file_extension": ".py",
   "mimetype": "text/x-python",
   "name": "python",
   "nbconvert_exporter": "python",
   "pygments_lexer": "ipython3",
   "version": "3.7.3"
  }
 },
 "nbformat": 4,
 "nbformat_minor": 2
}
